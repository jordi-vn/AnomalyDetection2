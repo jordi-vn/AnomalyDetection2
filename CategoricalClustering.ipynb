{
 "cells": [
  {
   "cell_type": "markdown",
   "id": "335f9d40-383f-4674-ac60-1261cfbac7bd",
   "metadata": {},
   "source": [
    "# Categorical clustering"
   ]
  },
  {
   "cell_type": "markdown",
   "id": "6be37d05-90b6-4049-b32a-e35c76c16df7",
   "metadata": {},
   "source": [
    "Notebook to test different clustering methods with categorical datasets.\n",
    "\n",
    "In order to make the R models work, you will have to manually change the global path so that it finds them in your files. (R version is 3.6.3)\n",
    "(It HAS to be a global path)"
   ]
  },
  {
   "cell_type": "code",
   "execution_count": 3,
   "id": "77d2ef07-c93c-4a7e-b817-01ea0dc1aecb",
   "metadata": {},
   "outputs": [
    {
     "name": "stdout",
     "output_type": "stream",
     "text": [
      "Num GPUs Available: 0 .\n",
      "\n",
      "The tensorflow version is 2.6.0.\n",
      "\n",
      "The scikit-learn version is 0.24.2.\n",
      "\n",
      "The matplotlib version is 3.4.2.\n",
      "\n"
     ]
    }
   ],
   "source": [
    "import pandas as pd\n",
    "import numpy as np\n",
    "import matplotlib.pyplot as plt\n",
    "from sklearn.cluster import KMeans, DBSCAN, Birch, OPTICS\n",
    "from sklearn.metrics import silhouette_score, pairwise_distances\n",
    "from sklearn.model_selection import train_test_split\n",
    "import matplotlib.pyplot as plt\n",
    "from qluster import Qluster\n",
    "import subprocess\n",
    "path = './Datasets/OHEMushroom.csv'\n",
    "path_sol = './Datasets/OHEMushroomSol.csv'\n",
    "#path = './Datasets/OHEGermanData.csv'\n",
    "#path_sol = './Datasets/OHEGermanDataSol.csv'"
   ]
  },
  {
   "cell_type": "markdown",
   "id": "483386b8-e1ba-4993-aaf9-b15cd10b4eba",
   "metadata": {},
   "source": [
    "## Load data"
   ]
  },
  {
   "cell_type": "code",
   "execution_count": 10,
   "id": "ca9c2e64-2109-4261-b1ef-cce0f1830aec",
   "metadata": {},
   "outputs": [],
   "source": [
    "#Load OHE variable data\n",
    "df = pd.read_csv(path)\n",
    "df = df.drop('Unnamed: 0',axis = 1)\n",
    "#Load and select edibility\n",
    "df_sol = pd.read_csv(path_sol)\n",
    "#edibility = np.array([0 if x == 'e' else 1 for x in df_sol.loc[:,'edible']])\n",
    "#edibility.shape\n",
    "clas = np.array(df_sol.loc[:,'edible'])\n",
    "df_bool = np.array(df, dtype=bool)#For silhouette score and pairwise distances\n",
    "train = df.iloc[:8000,:]\n",
    "test = df.iloc[8000:,:]"
   ]
  },
  {
   "cell_type": "markdown",
   "id": "a12c9d84-ebbd-4132-83bb-193525c49a83",
   "metadata": {
    "tags": []
   },
   "source": [
    "## K-means"
   ]
  },
  {
   "cell_type": "code",
   "execution_count": 3,
   "id": "05f7afdd-120e-4e62-b3c3-dd50a7d20eef",
   "metadata": {},
   "outputs": [
    {
     "name": "stdout",
     "output_type": "stream",
     "text": [
      "row_0    0    1     2    3     4    5    6    7    8    9\n",
      "col_0                                                    \n",
      "e      768    0     0  528  1728  192  704   48    0  240\n",
      "p        0  864  1296  124     0    0    0  896  288  448\n",
      "Purity: 0.949286\n",
      "Silhouette score: 0.21099218185388158\n"
     ]
    }
   ],
   "source": [
    "#Cluster and obtain labels\n",
    "kmeans = KMeans(n_clusters=10, random_state = 273).fit(df)\n",
    "clustering_kmeans = kmeans.labels_\n",
    "#Calculate and print contingency table\n",
    "data_crosstab = pd.crosstab(clustering_kmeans, \n",
    "                            clas,\n",
    "                                margins = False)\n",
    "print(data_crosstab.transpose())\n",
    "#Calculate and print purity\n",
    "cm_kmeans = np.array(data_crosstab)\n",
    "purity_kmeans = np.sum(np.amax(cm_kmeans, axis = 1))/np.sum(cm_kmeans)\n",
    "print(f'Purity: {round(purity_kmeans, 6)}')\n",
    "#Calculate silhouette score\n",
    "sil_kmeans = silhouette_score(df_bool, clustering_kmeans, metric='euclidean')\n",
    "print(f'Silhouette score: {sil_kmeans}')"
   ]
  },
  {
   "cell_type": "markdown",
   "id": "f3e90be2-eef3-4943-9491-edb4e7dd84d1",
   "metadata": {},
   "source": [
    "## DBSCAN"
   ]
  },
  {
   "cell_type": "code",
   "execution_count": 4,
   "id": "ccc91273-101c-48f3-bf43-b93a478569d2",
   "metadata": {},
   "outputs": [
    {
     "name": "stdout",
     "output_type": "stream",
     "text": [
      "row_0  -1    0    1     2     3    4    5     6    7    8    9    10   11  \\\n",
      "col_0                                                                       \n",
      "e        0  896  768  1728     0    0  192     0   48   32   48    0  192   \n",
      "p       16  448    0     0  1296  288    0  1728    0   72    0   32    0   \n",
      "\n",
      "row_0   12   13   14  \n",
      "col_0                 \n",
      "e      288    0   16  \n",
      "p        0   36    0  \n",
      "Purity: 0.940916\n",
      "Silhouette score: 0.24210148743140913\n"
     ]
    }
   ],
   "source": [
    "#Cluster and obtain labels\n",
    "dbscan = DBSCAN(eps=2, min_samples=10).fit(df)\n",
    "clustering_dbscan = dbscan.labels_\n",
    "#Calculate and print contingency table\n",
    "data_crosstab = pd.crosstab(clustering_dbscan, \n",
    "                            clas,\n",
    "                                margins = False)\n",
    "print(data_crosstab.transpose())\n",
    "#Calculate and print purity\n",
    "cm_dbscan = np.array(data_crosstab)\n",
    "purity_dbscan = np.sum(np.amax(cm_dbscan, axis = 1))/np.sum(cm_dbscan)\n",
    "print(f'Purity: {round(purity_dbscan, 6)}')\n",
    "#Calculate silhouette score\n",
    "sil_dbscan = silhouette_score(df_bool, clustering_dbscan, metric='euclidean')\n",
    "print(f'Silhouette score: {sil_dbscan}')"
   ]
  },
  {
   "cell_type": "markdown",
   "id": "d4000342-a0bf-4394-8d2f-197dcb086c06",
   "metadata": {},
   "source": [
    "## OPTICS"
   ]
  },
  {
   "cell_type": "code",
   "execution_count": 5,
   "id": "52255937-09ae-4895-a183-dac80204c41c",
   "metadata": {},
   "outputs": [
    {
     "name": "stdout",
     "output_type": "stream",
     "text": [
      "row_0  -1    0    1    2    3     4    5    6    7    8    9    10   11   12  \\\n",
      "col_0                                                                          \n",
      "e      478    0  512  192    0  1728    0  768   32  134    0  101   48    0   \n",
      "p      180  256    0    0  192     0  288    0    0    0   72    0    0   32   \n",
      "\n",
      "row_0    13    14   15   16   17   18  \n",
      "col_0                                  \n",
      "e         0     0   48   16  151    0  \n",
      "p      1564  1296    0    0    0   36  \n",
      "Purity: 0.977843\n",
      "Silhouette score: 0.2295400666866592\n"
     ]
    }
   ],
   "source": [
    "optics = OPTICS(min_samples=10).fit(df)\n",
    "clustering_optics = optics.labels_\n",
    "#Calculate and print contingency table\n",
    "data_crosstab = pd.crosstab(clustering_optics, \n",
    "                            clas,\n",
    "                                margins = False)\n",
    "print(data_crosstab.transpose())\n",
    "#Calculate and print purity\n",
    "cm_optics = np.array(data_crosstab)\n",
    "purity_optics = np.sum(np.amax(cm_optics, axis = 1))/np.sum(cm_optics)\n",
    "print(f'Purity: {round(purity_optics, 6)}')\n",
    "#Calculate silhouette score\n",
    "sil_optics = silhouette_score(df_bool, clustering_optics, metric='euclidean')\n",
    "print(f'Silhouette score: {sil_optics}')"
   ]
  },
  {
   "cell_type": "markdown",
   "id": "8d95a755-d03c-4cff-bebe-b40eccaaf9fd",
   "metadata": {},
   "source": [
    "## BIRCH"
   ]
  },
  {
   "cell_type": "code",
   "execution_count": 6,
   "id": "2e269f52-1168-432e-b8ba-6bb029ac697c",
   "metadata": {},
   "outputs": [
    {
     "name": "stdout",
     "output_type": "stream",
     "text": [
      "row_0    0     1    2     3    4     5    6    7    8    9\n",
      "col_0                                                     \n",
      "e      528  1728  192     0  768     0  192  288  512    0\n",
      "p      156     0  448  1296    0  1728    0    0    0  288\n",
      "Purity: 0.957164\n",
      "Silhouette score: 0.25245895263440915\n"
     ]
    }
   ],
   "source": [
    "birch = Birch(n_clusters=10).fit(df)\n",
    "clustering_birch = birch.labels_\n",
    "#Calculate and print contingency table\n",
    "data_crosstab = pd.crosstab(clustering_birch, \n",
    "                            clas,\n",
    "                                margins = False)\n",
    "print(data_crosstab.transpose())\n",
    "#Calculate and print purity\n",
    "cm_birch = np.array(data_crosstab)\n",
    "purity_birch = np.sum(np.amax(cm_birch, axis = 1))/np.sum(cm_birch)\n",
    "print(f'Purity: {round(purity_birch, 6)}')\n",
    "#Calculate silhouette score\n",
    "sil_birch = silhouette_score(df_bool, clustering_birch, metric='euclidean')\n",
    "print(f'Silhouette score: {sil_birch}')"
   ]
  },
  {
   "cell_type": "markdown",
   "id": "61757c75-4d55-4300-832a-e596203790c2",
   "metadata": {},
   "source": [
    "## Qluster"
   ]
  },
  {
   "cell_type": "code",
   "execution_count": 4,
   "id": "8e57cc4f-460f-42c8-ba3c-a4ddbb847429",
   "metadata": {},
   "outputs": [
    {
     "name": "stdout",
     "output_type": "stream",
     "text": [
      "(2031,)\n",
      "step:  50\n",
      "step:  100\n",
      "step:  150\n",
      "step:  200\n",
      "step:  250\n",
      "step:  300\n",
      "step:  350\n",
      "step:  400\n",
      "step:  450\n",
      "step:  500\n",
      "step:  550\n",
      "step:  600\n",
      "step:  650\n",
      "step:  700\n",
      "step:  750\n",
      "step:  800\n",
      "step:  850\n",
      "step:  900\n",
      "step:  950\n",
      "row_0  0.0   1.0  2.0  3.0   4.0   5.0  6.0  7.0  9.0\n",
      "col_0                                                \n",
      "e      288  2208  512  192     0    48  768  192    0\n",
      "p        0   816    0    0  1296  1768    0    0   36\n",
      "Purity: 0.893648\n",
      "Silhouette score: 0.22746178463561406\n"
     ]
    },
    {
     "data": {
      "image/png": "[encoded data removed]",
      "text/plain": [
       "<Figure size 1440x720 with 1 Axes>"
      ]
     },
     "metadata": {
      "needs_background": "light"
     },
     "output_type": "display_data"
    }
   ],
   "source": [
    "#Sample a smaller amount of points, as the function crashes otherwise\n",
    "df_train, df_test, df_sol_train, df_sol_test = train_test_split(df, clas, test_size = 0.75, random_state = 273)\n",
    "ql = Qluster(sigma = \"gamma.2.75\")#gamma.3 works well for this dataset\n",
    "ql.fit(df_train, n_neighbors = 5, metric = 'minkowski')\n",
    "clustering_ql = ql.predict(df)\n",
    "data_crosstab = pd.crosstab(clustering_ql, clas, margins = False)\n",
    "print(data_crosstab.transpose())\n",
    "#Calculate and print purity\n",
    "cm_ql = np.array(data_crosstab)\n",
    "purity_ql = np.sum(np.amax(cm_ql, axis = 1))/np.sum(cm_ql)\n",
    "print(f'Purity: {round(purity_ql, 6)}')\n",
    "#Calculate silhouette score\n",
    "sil_ql = silhouette_score(df, clustering_ql, metric='euclidean')\n",
    "#Plot points per cluster\n",
    "qlclustlabs = np.unique(clustering_ql)\n",
    "npointsclust = np.sum(np.array(data_crosstab), axis = 1)\n",
    "print(f'Silhouette score: {sil_ql}')\n",
    "plt.figure(figsize=(20,10))\n",
    "plt.bar(x=qlclustlabs, height=npointsclust)\n",
    "plt.xlabel(\"Cluster id\")\n",
    "plt.ylabel(\"Number of points\")\n",
    "plt.title(\"Quantum clustering result\")\n",
    "plt.show()"
   ]
  },
  {
   "cell_type": "code",
   "execution_count": 5,
   "id": "fcc89755-cf25-46db-a155-8e46766ffc1d",
   "metadata": {},
   "outputs": [
    {
     "data": {
      "text/plain": [
       "(array([ 2.,  1.,  2., ..., 10.,  6., 10.]),\n",
       " array([[0., 0., 1., ..., 0., 0., 0.],\n",
       "        [0., 1., 0., ..., 0., 0., 0.],\n",
       "        [0., 0., 1., ..., 0., 0., 0.],\n",
       "        ...,\n",
       "        [0., 0., 0., ..., 0., 0., 0.],\n",
       "        [0., 0., 0., ..., 0., 0., 0.],\n",
       "        [0., 0., 0., ..., 0., 0., 0.]]))"
      ]
     },
     "execution_count": 5,
     "metadata": {},
     "output_type": "execute_result"
    }
   ],
   "source": [
    "clustering_ql"
   ]
  },
  {
   "cell_type": "markdown",
   "id": "5c941f13-0a89-42c0-95ba-a54d27d3321b",
   "metadata": {},
   "source": [
    "## R models global path"
   ]
  },
  {
   "cell_type": "code",
   "execution_count": 7,
   "id": "01ee37b2-1853-40aa-be2d-dc1f091a2655",
   "metadata": {},
   "outputs": [],
   "source": [
    "#Modify this path so that it matches the project global path in your environment (replace ...)\n",
    "global_path = r'.../AnomalyDetection2'"
   ]
  },
  {
   "cell_type": "markdown",
   "id": "bb34b35b-83d6-41d0-9077-9b25ea53b503",
   "metadata": {},
   "source": [
    "## ROCK (R)"
   ]
  },
  {
   "cell_type": "code",
   "execution_count": null,
   "id": "87c35282-7ed4-496c-ab78-c210ae6361fe",
   "metadata": {},
   "outputs": [],
   "source": [
    "call1 = r'Rscript'\n",
    "#Modify call2, datapath and result_path accordingly\n",
    "call2 = global_path + '/RScripts/RockClustering.R'\n",
    "datapath = global_path + '/Datasets/ProcMushData.csv'\n",
    "n_clusters = r'20'\n",
    "theta = r'0.8'\n",
    "result_path = global_path + \"/RClustResults/RockRes.csv\"\n",
    "subprocess.call([call1, call2, datapath, n_clusters, theta, result_path])"
   ]
  },
  {
   "cell_type": "code",
   "execution_count": 9,
   "id": "ae902a97-7f64-4aca-9cb3-29040efdccb7",
   "metadata": {},
   "outputs": [
    {
     "name": "stdout",
     "output_type": "stream",
     "text": [
      "row_0   1    2    3   4   5     6     7    8    9    10  ...  12  13  14  15  \\\n",
      "col_0                                                    ...                   \n",
      "e        0  704  768  96  96  1728     0    0    0  192  ...  48  32  48   0   \n",
      "p      256    0    0   0   0     0  1296  192  288    0  ...   0  72   0  32   \n",
      "\n",
      "row_0  16   17   18  19  20  21  \n",
      "col_0                            \n",
      "e       0  192  288   0   0  16  \n",
      "p       8    0    0  36   8   0  \n",
      "\n",
      "[2 rows x 21 columns]\n",
      "Purity: 0.996061\n",
      "Silhouette score: 0.2497982800381731\n"
     ]
    }
   ],
   "source": [
    "clustering_rock = pd.read_csv(result_path)\n",
    "clustering_rock = clustering_rock.drop('Unnamed: 0',axis = 1)\n",
    "clustering_rock = np.array(clustering_rock).flatten()\n",
    "data_crosstab = pd.crosstab(clustering_rock, \n",
    "                            clas,\n",
    "                                margins = False)\n",
    "print(data_crosstab.transpose())\n",
    "#Calculate and print purity\n",
    "cm_rock = np.array(data_crosstab)\n",
    "purity_rock = np.sum(np.amax(cm_rock, axis = 1))/np.sum(cm_rock)\n",
    "print(f'Purity: {round(purity_rock, 6)}')\n",
    "#Calculate silhouette score\n",
    "sil_rock = silhouette_score(df_bool, clustering_rock, metric='euclidean')\n",
    "print(f'Silhouette score: {sil_rock}')"
   ]
  },
  {
   "cell_type": "markdown",
   "id": "b26ba537-8951-41b0-9528-fa2dff068b26",
   "metadata": {},
   "source": [
    "## HDBSCAN (R)"
   ]
  },
  {
   "cell_type": "code",
   "execution_count": null,
   "id": "bd152bfd-2d7f-40cb-8f22-f2d8ba763327",
   "metadata": {},
   "outputs": [],
   "source": [
    "call1 = r'Rscript'\n",
    "call2 = global_path + '/RScripts/HBDSCANClusteringR.R'\n",
    "datapath = global_path + '/Datasets/OHEMushroom.csv'\n",
    "pmin = r'10'\n",
    "result_path = global_path + \"/RClustResults/HDBSCANRes.csv\"\n",
    "subprocess.call([call1, call2, datapath, pmin, result_path])"
   ]
  },
  {
   "cell_type": "code",
   "execution_count": 11,
   "id": "1bd17f08-deac-40aa-b001-5c1be0b6ba2d",
   "metadata": {},
   "outputs": [
    {
     "name": "stdout",
     "output_type": "stream",
     "text": [
      "row_0   0   1    2   3   4     5     6   7   8    9   10  11   12   13   14  \\\n",
      "col_0                                                                         \n",
      "e      109   0  192  16  48     0     0   0  48  192   0  19  288  768    0   \n",
      "p       17  36    0   0   0  1296  1728  31   0    0  72   0    0    0  288   \n",
      "\n",
      "row_0    15   16   17   18   19  \n",
      "col_0                            \n",
      "e      1728   96  192  512    0  \n",
      "p         0  192    0    0  256  \n",
      "Purity: 0.986091\n",
      "Silhouette score: 0.257491655794522\n"
     ]
    }
   ],
   "source": [
    "clustering_hdbscan = pd.read_csv(result_path)\n",
    "clustering_hdbscan = clustering_hdbscan.drop('Unnamed: 0',axis = 1)\n",
    "clustering_hdbscan = np.array(clustering_hdbscan).flatten()\n",
    "data_crosstab = pd.crosstab(clustering_hdbscan, \n",
    "                            clas,\n",
    "                                margins = False)\n",
    "print(data_crosstab.transpose())\n",
    "#Calculate and print purity\n",
    "cm_hdbscan = np.array(data_crosstab)\n",
    "purity_hdbscan = np.sum(np.amax(cm_hdbscan, axis = 1))/np.sum(cm_hdbscan)\n",
    "print(f'Purity: {round(purity_hdbscan, 6)}')\n",
    "#Calculate silhouette score\n",
    "sil_hdbscan = silhouette_score(df_bool, clustering_hdbscan, metric='euclidean')\n",
    "print(f'Silhouette score: {sil_hdbscan}')"
   ]
  }
 ],
 "metadata": {
  "kernelspec": {
   "display_name": "Python 3 (ipykernel)",
   "language": "python",
   "name": "python3"
  },
  "language_info": {
   "codemirror_mode": {
    "name": "ipython",
    "version": 3
   },
   "file_extension": ".py",
   "mimetype": "text/x-python",
   "name": "python",
   "nbconvert_exporter": "python",
   "pygments_lexer": "ipython3",
   "version": "3.8.11"
  }
 },
 "nbformat": 4,
 "nbformat_minor": 5
}
